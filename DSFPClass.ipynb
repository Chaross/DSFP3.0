{
 "cells": [
  {
   "cell_type": "markdown",
   "id": "05e4164e",
   "metadata": {},
   "source": [
    "# Introduction to Phyton"
   ]
  },
  {
   "cell_type": "code",
   "execution_count": 27,
   "id": "ad98b47e",
   "metadata": {},
   "outputs": [
    {
     "name": "stdout",
     "output_type": "stream",
     "text": [
      "I love phyton very much\n"
     ]
    }
   ],
   "source": [
    "print(\"I love phyton very much\")"
   ]
  },
  {
   "cell_type": "code",
   "execution_count": 24,
   "id": "e39af05f",
   "metadata": {},
   "outputs": [
    {
     "data": {
      "text/plain": [
       "25"
      ]
     },
     "execution_count": 24,
     "metadata": {},
     "output_type": "execute_result"
    }
   ],
   "source": [
    "Age = 23\n",
    "\n",
    "Age + 2"
   ]
  },
  {
   "cell_type": "code",
   "execution_count": 25,
   "id": "14691cd5",
   "metadata": {},
   "outputs": [
    {
     "data": {
      "text/plain": [
       "'The average of 2, 5, 6 is: 4.333333333333333'"
      ]
     },
     "execution_count": 25,
     "metadata": {},
     "output_type": "execute_result"
    }
   ],
   "source": [
    "num1 = 2\n",
    "num2 = 5\n",
    "num3 = 6\n",
    "\n",
    "avg = (num1 + num2 + num3) / 3\n",
    "\n",
    "\"The average of {}, {}, {} is: {}\".format(num1, num2, num3, avg)"
   ]
  },
  {
   "cell_type": "code",
   "execution_count": 26,
   "id": "452f6d97",
   "metadata": {},
   "outputs": [
    {
     "name": "stdout",
     "output_type": "stream",
     "text": [
      "3.10.9 | packaged by Anaconda, Inc. | (main, Mar  1 2023, 18:18:15) [MSC v.1916 64 bit (AMD64)]\n"
     ]
    }
   ],
   "source": [
    "#check version\n",
    "\n",
    "import sys\n",
    "print(sys.version)"
   ]
  },
  {
   "cell_type": "markdown",
   "id": "aed7a267",
   "metadata": {},
   "source": [
    "# Loops"
   ]
  },
  {
   "cell_type": "code",
   "execution_count": 1,
   "id": "cde95b07",
   "metadata": {},
   "outputs": [
    {
     "name": "stdout",
     "output_type": "stream",
     "text": [
      "rock\n",
      "soul\n",
      "pop\n"
     ]
    }
   ],
   "source": [
    "Genres = [\"rock\", \"soul\", \"pop\"]\n",
    "for i in Genres:\n",
    "    print(i)"
   ]
  },
  {
   "cell_type": "code",
   "execution_count": 5,
   "id": "accb12f5",
   "metadata": {},
   "outputs": [
    {
     "name": "stdout",
     "output_type": "stream",
     "text": [
      "10\n",
      "9.5\n",
      "10\n",
      "8\n",
      "7.5\n",
      "10\n"
     ]
    }
   ],
   "source": [
    "PlayListRatings = [10, 9.5, 10, 8, 7.5, 10, 10]\n",
    "\n",
    "rating_index = 0\n",
    "while rating_index < len(PlayListRatings) - 1: \n",
    "    \n",
    "    if PlayListRatings[rating_index] < 6:\n",
    "        break\n",
    "    print(PlayListRatings[rating_index])\n",
    "    \n",
    "    rating_index = rating_index + 1"
   ]
  },
  {
   "cell_type": "code",
   "execution_count": 9,
   "id": "9f9445de",
   "metadata": {},
   "outputs": [
    {
     "data": {
      "text/plain": [
       "[('Alaba', 27), ('Mustapha', 32), ('Jamiu', 76)]"
      ]
     },
     "execution_count": 9,
     "metadata": {},
     "output_type": "execute_result"
    }
   ],
   "source": [
    "names = (\"Alaba\",  \"Mustapha\", \"Jamiu\")\n",
    "ages = (27, 32, 76,)\n",
    "list(zip(names, ages))"
   ]
  },
  {
   "cell_type": "markdown",
   "id": "92742252",
   "metadata": {},
   "source": [
    "# Tuple"
   ]
  },
  {
   "cell_type": "code",
   "execution_count": 11,
   "id": "bc5f5143",
   "metadata": {},
   "outputs": [
    {
     "data": {
      "text/plain": [
       "['a', 'b', 'c', 'd', 'e']"
      ]
     },
     "execution_count": 11,
     "metadata": {},
     "output_type": "execute_result"
    }
   ],
   "source": [
    "dare = [\"e\", \"d\", \"c\", \"b\", \"a\"]\n",
    "\n",
    "sorted(dare)\n"
   ]
  },
  {
   "cell_type": "markdown",
   "id": "3d82df08",
   "metadata": {},
   "source": [
    "# Set"
   ]
  },
  {
   "cell_type": "code",
   "execution_count": 22,
   "id": "6b930108",
   "metadata": {},
   "outputs": [
    {
     "data": {
      "text/plain": [
       "['__and__',\n",
       " '__class__',\n",
       " '__class_getitem__',\n",
       " '__contains__',\n",
       " '__delattr__',\n",
       " '__dir__',\n",
       " '__doc__',\n",
       " '__eq__',\n",
       " '__format__',\n",
       " '__ge__',\n",
       " '__getattribute__',\n",
       " '__gt__',\n",
       " '__hash__',\n",
       " '__iand__',\n",
       " '__init__',\n",
       " '__init_subclass__',\n",
       " '__ior__',\n",
       " '__isub__',\n",
       " '__iter__',\n",
       " '__ixor__',\n",
       " '__le__',\n",
       " '__len__',\n",
       " '__lt__',\n",
       " '__ne__',\n",
       " '__new__',\n",
       " '__or__',\n",
       " '__rand__',\n",
       " '__reduce__',\n",
       " '__reduce_ex__',\n",
       " '__repr__',\n",
       " '__ror__',\n",
       " '__rsub__',\n",
       " '__rxor__',\n",
       " '__setattr__',\n",
       " '__sizeof__',\n",
       " '__str__',\n",
       " '__sub__',\n",
       " '__subclasshook__',\n",
       " '__xor__',\n",
       " 'add',\n",
       " 'clear',\n",
       " 'copy',\n",
       " 'difference',\n",
       " 'difference_update',\n",
       " 'discard',\n",
       " 'intersection',\n",
       " 'intersection_update',\n",
       " 'isdisjoint',\n",
       " 'issubset',\n",
       " 'issuperset',\n",
       " 'pop',\n",
       " 'remove',\n",
       " 'symmetric_difference',\n",
       " 'symmetric_difference_update',\n",
       " 'union',\n",
       " 'update']"
      ]
     },
     "execution_count": 22,
     "metadata": {},
     "output_type": "execute_result"
    }
   ],
   "source": [
    "album_list = set([\"thriller\", \"action\", \"AC/DC\", \"COMEDY\"])\n",
    "\n",
    "\n",
    "\n",
    "album_list.add(\"Marvel\")\n",
    "\n",
    "album_list\n",
    "\n",
    "dir(album_list)"
   ]
  },
  {
   "cell_type": "code",
   "execution_count": 21,
   "id": "b0ea4f60",
   "metadata": {},
   "outputs": [
    {
     "data": {
      "text/plain": [
       "True"
      ]
     },
     "execution_count": 21,
     "metadata": {},
     "output_type": "execute_result"
    }
   ],
   "source": [
    "set([1,2,3]).issubset(list(range(0,9)))"
   ]
  },
  {
   "cell_type": "code",
   "execution_count": null,
   "id": "9c760eb0",
   "metadata": {},
   "outputs": [],
   "source": []
  }
 ],
 "metadata": {
  "kernelspec": {
   "display_name": "Python 3 (ipykernel)",
   "language": "python",
   "name": "python3"
  },
  "language_info": {
   "codemirror_mode": {
    "name": "ipython",
    "version": 3
   },
   "file_extension": ".py",
   "mimetype": "text/x-python",
   "name": "python",
   "nbconvert_exporter": "python",
   "pygments_lexer": "ipython3",
   "version": "3.10.9"
  }
 },
 "nbformat": 4,
 "nbformat_minor": 5
}
